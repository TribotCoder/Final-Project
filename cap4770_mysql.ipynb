{
 "cells": [
  {
   "cell_type": "code",
   "execution_count": 21,
   "id": "d6db6aab-bfa1-430c-a0e3-faff583de5f7",
   "metadata": {},
   "outputs": [
    {
     "name": "stdout",
     "output_type": "stream",
     "text": [
      "Python 3.12.4\n"
     ]
    }
   ],
   "source": [
    "!python --version"
   ]
  },
  {
   "cell_type": "code",
   "execution_count": null,
   "id": "41416363-78e8-4b91-af54-046d3c582f4d",
   "metadata": {},
   "outputs": [],
   "source": []
  },
  {
   "cell_type": "markdown",
   "id": "633d5ca0-7dc2-4d2b-b73c-d4a48e4fac2e",
   "metadata": {},
   "source": [
    "# MySQL connection with jupyter notebook"
   ]
  },
  {
   "cell_type": "markdown",
   "id": "a98b4e9d-675f-471e-8804-aa341743ddd1",
   "metadata": {},
   "source": [
    "### install mysql-connector-python"
   ]
  },
  {
   "cell_type": "code",
   "id": "c5181a2d",
   "metadata": {
    "ExecuteTime": {
     "end_time": "2025-07-29T18:45:09.372526Z",
     "start_time": "2025-07-29T18:45:09.304389Z"
    }
   },
   "source": [
    "#mysql connection with python\n",
    "%conda install -c anaconda mysql-connector-python -y"
   ],
   "outputs": [
    {
     "ename": "ValueError",
     "evalue": "The python kernel does not appear to be a conda environment.  Please use ``%pip install`` instead.",
     "output_type": "error",
     "traceback": [
      "\u001B[31m---------------------------------------------------------------------------\u001B[39m",
      "\u001B[31mValueError\u001B[39m                                Traceback (most recent call last)",
      "\u001B[36mCell\u001B[39m\u001B[36m \u001B[39m\u001B[32mIn[7]\u001B[39m\u001B[32m, line 2\u001B[39m\n\u001B[32m      1\u001B[39m \u001B[38;5;66;03m#mysql connection with python\u001B[39;00m\n\u001B[32m----> \u001B[39m\u001B[32m2\u001B[39m \u001B[43mget_ipython\u001B[49m\u001B[43m(\u001B[49m\u001B[43m)\u001B[49m\u001B[43m.\u001B[49m\u001B[43mrun_line_magic\u001B[49m\u001B[43m(\u001B[49m\u001B[33;43m'\u001B[39;49m\u001B[33;43mconda\u001B[39;49m\u001B[33;43m'\u001B[39;49m\u001B[43m,\u001B[49m\u001B[43m \u001B[49m\u001B[33;43m'\u001B[39;49m\u001B[33;43minstall -c anaconda mysql-connector-python -y\u001B[39;49m\u001B[33;43m'\u001B[39;49m\u001B[43m)\u001B[49m\n",
      "\u001B[36mFile \u001B[39m\u001B[32m~\\AppData\\Roaming\\Python\\Python313\\site-packages\\IPython\\core\\interactiveshell.py:2488\u001B[39m, in \u001B[36mInteractiveShell.run_line_magic\u001B[39m\u001B[34m(self, magic_name, line, _stack_depth)\u001B[39m\n\u001B[32m   2486\u001B[39m     kwargs[\u001B[33m'\u001B[39m\u001B[33mlocal_ns\u001B[39m\u001B[33m'\u001B[39m] = \u001B[38;5;28mself\u001B[39m.get_local_scope(stack_depth)\n\u001B[32m   2487\u001B[39m \u001B[38;5;28;01mwith\u001B[39;00m \u001B[38;5;28mself\u001B[39m.builtin_trap:\n\u001B[32m-> \u001B[39m\u001B[32m2488\u001B[39m     result = \u001B[43mfn\u001B[49m\u001B[43m(\u001B[49m\u001B[43m*\u001B[49m\u001B[43margs\u001B[49m\u001B[43m,\u001B[49m\u001B[43m \u001B[49m\u001B[43m*\u001B[49m\u001B[43m*\u001B[49m\u001B[43mkwargs\u001B[49m\u001B[43m)\u001B[49m\n\u001B[32m   2490\u001B[39m \u001B[38;5;66;03m# The code below prevents the output from being displayed\u001B[39;00m\n\u001B[32m   2491\u001B[39m \u001B[38;5;66;03m# when using magics with decorator @output_can_be_silenced\u001B[39;00m\n\u001B[32m   2492\u001B[39m \u001B[38;5;66;03m# when the last Python token in the expression is a ';'.\u001B[39;00m\n\u001B[32m   2493\u001B[39m \u001B[38;5;28;01mif\u001B[39;00m \u001B[38;5;28mgetattr\u001B[39m(fn, magic.MAGIC_OUTPUT_CAN_BE_SILENCED, \u001B[38;5;28;01mFalse\u001B[39;00m):\n",
      "\u001B[36mFile \u001B[39m\u001B[32m~\\AppData\\Roaming\\Python\\Python313\\site-packages\\IPython\\core\\magics\\packaging.py:27\u001B[39m, in \u001B[36mis_conda_environment.<locals>.wrapper\u001B[39m\u001B[34m(*args, **kwargs)\u001B[39m\n\u001B[32m     25\u001B[39m \u001B[38;5;66;03m# TODO: does this need to change on windows?\u001B[39;00m\n\u001B[32m     26\u001B[39m \u001B[38;5;28;01mif\u001B[39;00m \u001B[38;5;129;01mnot\u001B[39;00m Path(sys.prefix, \u001B[33m\"\u001B[39m\u001B[33mconda-meta\u001B[39m\u001B[33m\"\u001B[39m, \u001B[33m\"\u001B[39m\u001B[33mhistory\u001B[39m\u001B[33m\"\u001B[39m).exists():\n\u001B[32m---> \u001B[39m\u001B[32m27\u001B[39m     \u001B[38;5;28;01mraise\u001B[39;00m \u001B[38;5;167;01mValueError\u001B[39;00m(\n\u001B[32m     28\u001B[39m         \u001B[33m\"\u001B[39m\u001B[33mThe python kernel does not appear to be a conda environment.  \u001B[39m\u001B[33m\"\u001B[39m\n\u001B[32m     29\u001B[39m         \u001B[33m\"\u001B[39m\u001B[33mPlease use ``\u001B[39m\u001B[33m%\u001B[39m\u001B[33mpip install`` instead.\u001B[39m\u001B[33m\"\u001B[39m\n\u001B[32m     30\u001B[39m     )\n\u001B[32m     31\u001B[39m \u001B[38;5;28;01mreturn\u001B[39;00m func(*args, **kwargs)\n",
      "\u001B[31mValueError\u001B[39m: The python kernel does not appear to be a conda environment.  Please use ``%pip install`` instead."
     ]
    }
   ],
   "execution_count": 7
  },
  {
   "cell_type": "markdown",
   "id": "dad69bca-b155-4c39-9334-33abf39f5cd7",
   "metadata": {},
   "source": [
    "### Connection with mysql"
   ]
  },
  {
   "cell_type": "code",
   "id": "eb518a42",
   "metadata": {
    "ExecuteTime": {
     "end_time": "2025-07-28T16:37:31.969826Z",
     "start_time": "2025-07-28T16:37:28.879226Z"
    }
   },
   "source": [
    "import mysql.connector as sql\n",
    "conn = sql.connect(\n",
    "    host='localhost', \n",
    "    user='root', \n",
    "    password='shashi123',\n",
    "    database= 'cap4770',  \n",
    "    use_pure = True)\n",
    "\n",
    "conn"
   ],
   "outputs": [
    {
     "ename": "InterfaceError",
     "evalue": "2003: Can't connect to MySQL server on 'localhost:3306' (Errno 10061: No connection could be made because the target machine actively refused it)",
     "output_type": "error",
     "traceback": [
      "\u001B[31m---------------------------------------------------------------------------\u001B[39m",
      "\u001B[31mConnectionRefusedError\u001B[39m                    Traceback (most recent call last)",
      "\u001B[36mFile \u001B[39m\u001B[32m~\\AppData\\Local\\Programs\\Python\\Python313\\Lib\\site-packages\\mysql\\connector\\network.py:795\u001B[39m, in \u001B[36mMySQLTCPSocket.open_connection\u001B[39m\u001B[34m(self)\u001B[39m\n\u001B[32m    794\u001B[39m     \u001B[38;5;28mself\u001B[39m.sock.settimeout(\u001B[38;5;28mself\u001B[39m._connection_timeout)\n\u001B[32m--> \u001B[39m\u001B[32m795\u001B[39m     \u001B[38;5;28;43mself\u001B[39;49m\u001B[43m.\u001B[49m\u001B[43msock\u001B[49m\u001B[43m.\u001B[49m\u001B[43mconnect\u001B[49m\u001B[43m(\u001B[49m\u001B[43msockaddr\u001B[49m\u001B[43m)\u001B[49m\n\u001B[32m    796\u001B[39m \u001B[38;5;28;01mexcept\u001B[39;00m (socket.timeout, \u001B[38;5;167;01mTimeoutError\u001B[39;00m) \u001B[38;5;28;01mas\u001B[39;00m err:\n",
      "\u001B[31mConnectionRefusedError\u001B[39m: [WinError 10061] No connection could be made because the target machine actively refused it",
      "\nThe above exception was the direct cause of the following exception:\n",
      "\u001B[31mInterfaceError\u001B[39m                            Traceback (most recent call last)",
      "\u001B[36mCell\u001B[39m\u001B[36m \u001B[39m\u001B[32mIn[3]\u001B[39m\u001B[32m, line 2\u001B[39m\n\u001B[32m      1\u001B[39m \u001B[38;5;28;01mimport\u001B[39;00m\u001B[38;5;250m \u001B[39m\u001B[34;01mmysql\u001B[39;00m\u001B[34;01m.\u001B[39;00m\u001B[34;01mconnector\u001B[39;00m\u001B[38;5;250m \u001B[39m\u001B[38;5;28;01mas\u001B[39;00m\u001B[38;5;250m \u001B[39m\u001B[34;01msql\u001B[39;00m\n\u001B[32m----> \u001B[39m\u001B[32m2\u001B[39m conn = \u001B[43msql\u001B[49m\u001B[43m.\u001B[49m\u001B[43mconnect\u001B[49m\u001B[43m(\u001B[49m\n\u001B[32m      3\u001B[39m \u001B[43m    \u001B[49m\u001B[43mhost\u001B[49m\u001B[43m=\u001B[49m\u001B[33;43m'\u001B[39;49m\u001B[33;43mlocalhost\u001B[39;49m\u001B[33;43m'\u001B[39;49m\u001B[43m,\u001B[49m\u001B[43m \u001B[49m\n\u001B[32m      4\u001B[39m \u001B[43m    \u001B[49m\u001B[43muser\u001B[49m\u001B[43m=\u001B[49m\u001B[33;43m'\u001B[39;49m\u001B[33;43mroot\u001B[39;49m\u001B[33;43m'\u001B[39;49m\u001B[43m,\u001B[49m\u001B[43m \u001B[49m\n\u001B[32m      5\u001B[39m \u001B[43m    \u001B[49m\u001B[43mpassword\u001B[49m\u001B[43m=\u001B[49m\u001B[33;43m'\u001B[39;49m\u001B[33;43mshashi123\u001B[39;49m\u001B[33;43m'\u001B[39;49m\u001B[43m,\u001B[49m\n\u001B[32m      6\u001B[39m \u001B[43m    \u001B[49m\u001B[43mdatabase\u001B[49m\u001B[43m=\u001B[49m\u001B[43m \u001B[49m\u001B[33;43m'\u001B[39;49m\u001B[33;43mcap4770\u001B[39;49m\u001B[33;43m'\u001B[39;49m\u001B[43m,\u001B[49m\u001B[43m  \u001B[49m\n\u001B[32m      7\u001B[39m \u001B[43m    \u001B[49m\u001B[43muse_pure\u001B[49m\u001B[43m \u001B[49m\u001B[43m=\u001B[49m\u001B[43m \u001B[49m\u001B[38;5;28;43;01mTrue\u001B[39;49;00m\u001B[43m)\u001B[49m\n\u001B[32m      9\u001B[39m conn\n",
      "\u001B[36mFile \u001B[39m\u001B[32m~\\AppData\\Local\\Programs\\Python\\Python313\\Lib\\site-packages\\mysql\\connector\\pooling.py:323\u001B[39m, in \u001B[36mconnect\u001B[39m\u001B[34m(*args, **kwargs)\u001B[39m\n\u001B[32m    321\u001B[39m \u001B[38;5;28;01mif\u001B[39;00m CMySQLConnection \u001B[38;5;129;01mand\u001B[39;00m \u001B[38;5;129;01mnot\u001B[39;00m use_pure:\n\u001B[32m    322\u001B[39m     \u001B[38;5;28;01mreturn\u001B[39;00m CMySQLConnection(*args, **kwargs)\n\u001B[32m--> \u001B[39m\u001B[32m323\u001B[39m \u001B[38;5;28;01mreturn\u001B[39;00m \u001B[43mMySQLConnection\u001B[49m\u001B[43m(\u001B[49m\u001B[43m*\u001B[49m\u001B[43margs\u001B[49m\u001B[43m,\u001B[49m\u001B[43m \u001B[49m\u001B[43m*\u001B[49m\u001B[43m*\u001B[49m\u001B[43mkwargs\u001B[49m\u001B[43m)\u001B[49m\n",
      "\u001B[36mFile \u001B[39m\u001B[32m~\\AppData\\Local\\Programs\\Python\\Python313\\Lib\\site-packages\\mysql\\connector\\connection.py:185\u001B[39m, in \u001B[36mMySQLConnection.__init__\u001B[39m\u001B[34m(self, **kwargs)\u001B[39m\n\u001B[32m    183\u001B[39m \u001B[38;5;28;01mif\u001B[39;00m kwargs:\n\u001B[32m    184\u001B[39m     \u001B[38;5;28;01mtry\u001B[39;00m:\n\u001B[32m--> \u001B[39m\u001B[32m185\u001B[39m         \u001B[38;5;28;43mself\u001B[39;49m\u001B[43m.\u001B[49m\u001B[43mconnect\u001B[49m\u001B[43m(\u001B[49m\u001B[43m*\u001B[49m\u001B[43m*\u001B[49m\u001B[43mkwargs\u001B[49m\u001B[43m)\u001B[49m\n\u001B[32m    186\u001B[39m     \u001B[38;5;28;01mexcept\u001B[39;00m \u001B[38;5;167;01mException\u001B[39;00m:\n\u001B[32m    187\u001B[39m         \u001B[38;5;66;03m# Tidy-up underlying socket on failure\u001B[39;00m\n\u001B[32m    188\u001B[39m         \u001B[38;5;28mself\u001B[39m.close()\n",
      "\u001B[36mFile \u001B[39m\u001B[32m~\\AppData\\Local\\Programs\\Python\\Python313\\Lib\\site-packages\\mysql\\connector\\abstracts.py:1604\u001B[39m, in \u001B[36mMySQLConnectionAbstract.connect\u001B[39m\u001B[34m(self, **kwargs)\u001B[39m\n\u001B[32m   1601\u001B[39m     \u001B[38;5;28mself\u001B[39m.config(**kwargs)\n\u001B[32m   1603\u001B[39m \u001B[38;5;28mself\u001B[39m.disconnect()\n\u001B[32m-> \u001B[39m\u001B[32m1604\u001B[39m \u001B[38;5;28;43mself\u001B[39;49m\u001B[43m.\u001B[49m\u001B[43m_open_connection\u001B[49m\u001B[43m(\u001B[49m\u001B[43m)\u001B[49m\n\u001B[32m   1606\u001B[39m charset, collation = (\n\u001B[32m   1607\u001B[39m     kwargs.pop(\u001B[33m\"\u001B[39m\u001B[33mcharset\u001B[39m\u001B[33m\"\u001B[39m, \u001B[38;5;28;01mNone\u001B[39;00m),\n\u001B[32m   1608\u001B[39m     kwargs.pop(\u001B[33m\"\u001B[39m\u001B[33mcollation\u001B[39m\u001B[33m\"\u001B[39m, \u001B[38;5;28;01mNone\u001B[39;00m),\n\u001B[32m   1609\u001B[39m )\n\u001B[32m   1610\u001B[39m \u001B[38;5;28;01mif\u001B[39;00m charset \u001B[38;5;129;01mor\u001B[39;00m collation:\n",
      "\u001B[36mFile \u001B[39m\u001B[32m~\\AppData\\Local\\Programs\\Python\\Python313\\Lib\\site-packages\\mysql\\connector\\connection.py:411\u001B[39m, in \u001B[36mMySQLConnection._open_connection\u001B[39m\u001B[34m(self)\u001B[39m\n\u001B[32m    406\u001B[39m     \u001B[38;5;28;01mif\u001B[39;00m \u001B[38;5;28misinstance\u001B[39m(err, (ReadTimeoutError, WriteTimeoutError)):\n\u001B[32m    407\u001B[39m         \u001B[38;5;28;01mraise\u001B[39;00m ConnectionTimeoutError(\n\u001B[32m    408\u001B[39m             errno=err.errno,\n\u001B[32m    409\u001B[39m             msg=err.msg,\n\u001B[32m    410\u001B[39m         ) \u001B[38;5;28;01mfrom\u001B[39;00m\u001B[38;5;250m \u001B[39m\u001B[34;01merr\u001B[39;00m\n\u001B[32m--> \u001B[39m\u001B[32m411\u001B[39m     \u001B[38;5;28;01mraise\u001B[39;00m err\n\u001B[32m    412\u001B[39m \u001B[38;5;28;01mfinally\u001B[39;00m:\n\u001B[32m    413\u001B[39m     \u001B[38;5;66;03m# as the connection is established, set back the read\u001B[39;00m\n\u001B[32m    414\u001B[39m     \u001B[38;5;66;03m# and write timeouts to the original value\u001B[39;00m\n\u001B[32m    415\u001B[39m     \u001B[38;5;28mself\u001B[39m.read_timeout = stored_read_timeout\n",
      "\u001B[36mFile \u001B[39m\u001B[32m~\\AppData\\Local\\Programs\\Python\\Python313\\Lib\\site-packages\\mysql\\connector\\connection.py:382\u001B[39m, in \u001B[36mMySQLConnection._open_connection\u001B[39m\u001B[34m(self)\u001B[39m\n\u001B[32m    380\u001B[39m \u001B[38;5;28mself\u001B[39m._socket = \u001B[38;5;28mself\u001B[39m._get_connection()\n\u001B[32m    381\u001B[39m \u001B[38;5;28;01mtry\u001B[39;00m:\n\u001B[32m--> \u001B[39m\u001B[32m382\u001B[39m     \u001B[38;5;28;43mself\u001B[39;49m\u001B[43m.\u001B[49m\u001B[43m_socket\u001B[49m\u001B[43m.\u001B[49m\u001B[43mopen_connection\u001B[49m\u001B[43m(\u001B[49m\u001B[43m)\u001B[49m\n\u001B[32m    384\u001B[39m     \u001B[38;5;66;03m# do initial handshake\u001B[39;00m\n\u001B[32m    385\u001B[39m     \u001B[38;5;28mself\u001B[39m._do_handshake()\n",
      "\u001B[36mFile \u001B[39m\u001B[32m~\\AppData\\Local\\Programs\\Python\\Python313\\Lib\\site-packages\\mysql\\connector\\network.py:806\u001B[39m, in \u001B[36mMySQLTCPSocket.open_connection\u001B[39m\u001B[34m(self)\u001B[39m\n\u001B[32m    797\u001B[39m     \u001B[38;5;28;01mraise\u001B[39;00m ConnectionTimeoutError(\n\u001B[32m    798\u001B[39m         errno=\u001B[32m2003\u001B[39m,\n\u001B[32m    799\u001B[39m         values=(\n\u001B[32m   (...)\u001B[39m\u001B[32m    803\u001B[39m         ),\n\u001B[32m    804\u001B[39m     ) \u001B[38;5;28;01mfrom\u001B[39;00m\u001B[38;5;250m \u001B[39m\u001B[34;01merr\u001B[39;00m\n\u001B[32m    805\u001B[39m \u001B[38;5;28;01mexcept\u001B[39;00m \u001B[38;5;167;01mIOError\u001B[39;00m \u001B[38;5;28;01mas\u001B[39;00m err:\n\u001B[32m--> \u001B[39m\u001B[32m806\u001B[39m     \u001B[38;5;28;01mraise\u001B[39;00m InterfaceError(\n\u001B[32m    807\u001B[39m         errno=\u001B[32m2003\u001B[39m,\n\u001B[32m    808\u001B[39m         values=(\u001B[38;5;28mself\u001B[39m.server_host, \u001B[38;5;28mself\u001B[39m.server_port, _strioerror(err)),\n\u001B[32m    809\u001B[39m     ) \u001B[38;5;28;01mfrom\u001B[39;00m\u001B[38;5;250m \u001B[39m\u001B[34;01merr\u001B[39;00m\n\u001B[32m    810\u001B[39m \u001B[38;5;28;01mexcept\u001B[39;00m \u001B[38;5;167;01mException\u001B[39;00m \u001B[38;5;28;01mas\u001B[39;00m err:\n\u001B[32m    811\u001B[39m     \u001B[38;5;28;01mraise\u001B[39;00m InterfaceError(\u001B[38;5;28mstr\u001B[39m(err)) \u001B[38;5;28;01mfrom\u001B[39;00m\u001B[38;5;250m \u001B[39m\u001B[34;01merr\u001B[39;00m\n",
      "\u001B[31mInterfaceError\u001B[39m: 2003: Can't connect to MySQL server on 'localhost:3306' (Errno 10061: No connection could be made because the target machine actively refused it)"
     ]
    }
   ],
   "execution_count": 3
  },
  {
   "cell_type": "code",
   "execution_count": 52,
   "id": "949bb0ba",
   "metadata": {},
   "outputs": [],
   "source": [
    "cursor = conn.cursor(buffered=True)"
   ]
  },
  {
   "cell_type": "code",
   "execution_count": 54,
   "id": "935b4e35-be52-400d-a232-5e8061201a1b",
   "metadata": {},
   "outputs": [],
   "source": [
    "cursor.execute(\"use cap4770\")\n",
    "# for x in cursor:\n",
    "#     print(x)"
   ]
  },
  {
   "cell_type": "code",
   "execution_count": 56,
   "id": "4999e5eb",
   "metadata": {},
   "outputs": [
    {
     "name": "stdout",
     "output_type": "stream",
     "text": [
      "('customer',)\n",
      "('flight_data',)\n",
      "('test',)\n"
     ]
    }
   ],
   "source": [
    "cursor.execute(\"show tables\")\n",
    "for x in cursor:\n",
    "    print(x) "
   ]
  },
  {
   "cell_type": "code",
   "execution_count": 58,
   "id": "047819e4",
   "metadata": {},
   "outputs": [],
   "source": [
    "# install numpy, pandas and matplotlib using pip at terminal"
   ]
  },
  {
   "cell_type": "code",
   "execution_count": 60,
   "id": "9825414f-d388-4690-91f4-0b4b37bee39d",
   "metadata": {},
   "outputs": [],
   "source": [
    "import numpy as np\n",
    "import pandas as pd\n",
    "import matplotlib.pyplot as plt"
   ]
  },
  {
   "cell_type": "code",
   "execution_count": null,
   "id": "9753f84d-3480-48a3-ac7d-80105e8b6844",
   "metadata": {},
   "outputs": [],
   "source": []
  },
  {
   "cell_type": "code",
   "execution_count": 69,
   "id": "3178f891-66bc-48de-809b-cc108ec093e3",
   "metadata": {},
   "outputs": [
    {
     "name": "stderr",
     "output_type": "stream",
     "text": [
      "/var/folders/r4/yz3dd24127zb2x7mf_0wnfsj0lvwdn/T/ipykernel_94343/880976060.py:5: UserWarning: pandas only supports SQLAlchemy connectable (engine/connection) or database string URI or sqlite3 DBAPI2 connection. Other DBAPI2 objects are not tested. Please consider using SQLAlchemy.\n",
      "  df = pd.read_sql(query, conn)\n"
     ]
    }
   ],
   "source": [
    "# SQL query to fetch data from MySQL table\n",
    "query = \"select * from flight_data limit 10\" #top 10 records of flight_data \n",
    "\n",
    "# Fetch data into DataFrame\n",
    "df = pd.read_sql(query, conn)\n",
    "\n",
    "# Close the MySQL connection\n",
    "# connection.close()"
   ]
  },
  {
   "cell_type": "code",
   "execution_count": 81,
   "id": "5671a4d0-57cd-44ca-862b-e36f3a7e75a9",
   "metadata": {},
   "outputs": [],
   "source": [
    "# for selecting only 50K records, since it was not feasible to upload the whole number of records on the canvas.\n",
    "# df.shape \n",
    "# df_first_50000 = df.head(50000)\n",
    "# df_first_50000.to_csv('flight_data_since2018.csv', index=False)"
   ]
  },
  {
   "cell_type": "code",
   "execution_count": 79,
   "id": "bedb6858-9924-4658-9958-23d9241a407a",
   "metadata": {},
   "outputs": [],
   "source": [
    "# Close the MySQL connection\n",
    "conn.close()"
   ]
  },
  {
   "cell_type": "code",
   "execution_count": null,
   "id": "81b6021e-1502-47a8-bd00-ea33b28fdd09",
   "metadata": {},
   "outputs": [],
   "source": [
    "df_fd = pd.read_csv('../data/flight_data/flight_data_since2018.csv') # ~ 1.8M records, 70 features\n",
    "df_hd_reg = pd.read_csv('../data/volusia_county_house_data/house_data_reg.csv'); # ~50.8k records, 21 features\n",
    "df_hd_clf = pd.read_csv('../data/volusia_county_house_data/house_data_clf.csv'); # ~76.5k records, 29 features"
   ]
  },
  {
   "cell_type": "code",
   "execution_count": null,
   "id": "c5d90b89-8def-49b7-8cc3-91e4fef910b8",
   "metadata": {},
   "outputs": [],
   "source": [
    "df_fd.info()"
   ]
  },
  {
   "cell_type": "code",
   "execution_count": null,
   "id": "008e53c8-37d1-49cc-9247-671d17a9c7c4",
   "metadata": {},
   "outputs": [],
   "source": [
    "df_fd.columns"
   ]
  },
  {
   "cell_type": "code",
   "execution_count": null,
   "id": "50fa1c2d-f7d1-44da-8a86-edb2d6f0c026",
   "metadata": {},
   "outputs": [],
   "source": [
    "df_fd.head()"
   ]
  },
  {
   "cell_type": "code",
   "execution_count": null,
   "id": "16ad00c8-60ba-4abc-9db9-b304d3b0e906",
   "metadata": {},
   "outputs": [],
   "source": [
    "df_hd_reg.info()"
   ]
  },
  {
   "cell_type": "code",
   "execution_count": null,
   "id": "ac2cc68b-3993-4b4f-80e4-215f59e5d631",
   "metadata": {},
   "outputs": [],
   "source": [
    "df_hd_clf.info()"
   ]
  },
  {
   "cell_type": "code",
   "execution_count": null,
   "id": "bac4ff33-c6ed-4d98-bc35-64f17d0376c7",
   "metadata": {},
   "outputs": [],
   "source": [
    "df_hd_reg.columns"
   ]
  },
  {
   "cell_type": "code",
   "execution_count": null,
   "id": "561a8b08-1e0a-4378-9002-603248a3464c",
   "metadata": {},
   "outputs": [],
   "source": [
    "df_hd_clf.columns"
   ]
  },
  {
   "cell_type": "code",
   "execution_count": null,
   "id": "1aba898d-d439-4d25-a077-eb4194ec672e",
   "metadata": {},
   "outputs": [],
   "source": [
    "df_hd_reg.head()"
   ]
  },
  {
   "cell_type": "code",
   "execution_count": null,
   "id": "522af96d-79be-44e1-ac76-1db34b4fa0f9",
   "metadata": {},
   "outputs": [],
   "source": [
    "df_hd_clf.head()"
   ]
  },
  {
   "cell_type": "code",
   "execution_count": null,
   "id": "870e666c-1c8e-4cb0-baab-fc79aeb1eca5",
   "metadata": {},
   "outputs": [],
   "source": []
  },
  {
   "cell_type": "code",
   "execution_count": null,
   "id": "5064d0ec-c6ce-4368-9a51-1ec435ad44a1",
   "metadata": {},
   "outputs": [],
   "source": [
    "query = \"\"\"select * from house_data_reg\"\"\"\n",
    "df_hd_reg = pd.read_sql(query, conn)\n",
    "df_hd_reg"
   ]
  },
  {
   "cell_type": "code",
   "execution_count": null,
   "id": "d47b30f4-25f6-47ba-8f48-62cd8cc08b44",
   "metadata": {},
   "outputs": [],
   "source": [
    "query = \"\"\"select * from house_data_clf\"\"\"\n",
    "df_hd_clf = pd.read_sql(query, conn)\n",
    "df_hd_clf"
   ]
  },
  {
   "cell_type": "code",
   "execution_count": null,
   "id": "4b300833-a105-43fc-9cb3-66751a5a9281",
   "metadata": {},
   "outputs": [],
   "source": [
    "query = \"\"\"select * from flight_data\"\"\"\n",
    "df_fd = pd.read_sql(query, conn)\n",
    "df_fd"
   ]
  },
  {
   "cell_type": "code",
   "execution_count": null,
   "id": "046dd77e-7ced-4994-9a84-54d91072e56a",
   "metadata": {},
   "outputs": [],
   "source": [
    "df_fd"
   ]
  },
  {
   "cell_type": "code",
   "execution_count": null,
   "id": "e8f87913-e328-44e2-8e3f-d957b6b3baaf",
   "metadata": {},
   "outputs": [],
   "source": [
    "import pandas as pd\n",
    "\n",
    "Movie = pd.read_csv('../data/movies.csv')\n",
    "Movie\n"
   ]
  },
  {
   "cell_type": "code",
   "execution_count": null,
   "id": "c68f04d0-42c8-483b-b46a-d1fd09046e9d",
   "metadata": {},
   "outputs": [],
   "source": [
    "Movie['ReleaseDate'] = pd.to_datetime(Movie['ReleaseDate'], format='%d-%b-%y')\n",
    "Movie\n",
    "\n"
   ]
  },
  {
   "cell_type": "code",
   "execution_count": null,
   "id": "204a83e8-67a0-4c4d-888f-4beff293db7a",
   "metadata": {},
   "outputs": [],
   "source": [
    "# SELECT Title\n",
    "# FROM Movie\n",
    "# WHERE Rating = \"G\"\n",
    "Movie.query(\"Rating == 'G' \")['Title']\n"
   ]
  },
  {
   "cell_type": "code",
   "execution_count": null,
   "id": "e6684c33-f175-45df-ae08-c6a87304e6c4",
   "metadata": {},
   "outputs": [],
   "source": [
    "\n",
    "# SELECT Title \n",
    "# FROM Movie\n",
    "# WHERE ReleaseDate > \"2020-01-01\"\n",
    "\n",
    "Movie.query(\"ReleaseDate > '2020-01-01' \")['Title']"
   ]
  },
  {
   "cell_type": "code",
   "execution_count": null,
   "id": "02b98545-5a06-45bd-804b-993ea2bebe89",
   "metadata": {},
   "outputs": [],
   "source": [
    "SELECT Title, Rating\n",
    "FROM Movie\n",
    "WHERE Rating In (\"G\", \"PG\")\n",
    " \n",
    "Movie.query(\" Rating == 'G' or Rating == 'PG' \")[['Title', 'Rating']]\n"
   ]
  },
  {
   "cell_type": "code",
   "execution_count": null,
   "id": "25d8a927-085b-44f1-b31c-41e1ac7257d2",
   "metadata": {},
   "outputs": [],
   "source": [
    "# SELECT Title\n",
    "# FROM Movie \n",
    "# WHERE Rating = \"PG-13\" and ReleaseDate > \"2008-01-01\" \n",
    "\n",
    "Movie.query(\" Rating == 'PG-13' and ReleaseDate > '2008-01-01' \")['Title']\n"
   ]
  },
  {
   "cell_type": "code",
   "execution_count": null,
   "id": "3f2e78cc-5320-4de0-ad70-781dd6343bb7",
   "metadata": {},
   "outputs": [],
   "source": [
    "# SELECT Title, ReleaseDate\n",
    "# FROM Movie\n",
    "# WHERE Budget > Gross\n",
    "\n",
    "\n",
    "Movie.query(\"Budget > Gross\")[['Title', 'ReleaseDate']]"
   ]
  },
  {
   "cell_type": "code",
   "execution_count": null,
   "id": "c561e734-4a39-4d2c-9b93-02a5af456ddd",
   "metadata": {},
   "outputs": [],
   "source": [
    "# SELECT Title\n",
    "# FROM Movie\n",
    "# WHERE Budget < Gross AND Rating = \"G\"\n",
    "\n",
    " "
   ]
  },
  {
   "cell_type": "code",
   "execution_count": null,
   "id": "7495e4d0-304d-44af-a314-305487672813",
   "metadata": {},
   "outputs": [],
   "source": [
    "# SELECT Title, Year, Budget\n",
    "# FROM Movie\n",
    "# WHERE Budget > 300000000\n",
    "\n",
    "\n",
    "# Movie.query(\"Budget > 300000000\")['Title']"
   ]
  },
  {
   "cell_type": "code",
   "execution_count": null,
   "id": "4211c2c9-a311-4b56-91fa-1afbbafdc1ac",
   "metadata": {},
   "outputs": [],
   "source": []
  }
 ],
 "metadata": {
  "kernelspec": {
   "display_name": "Python 3 (ipykernel)",
   "language": "python",
   "name": "python3"
  },
  "language_info": {
   "codemirror_mode": {
    "name": "ipython",
    "version": 3
   },
   "file_extension": ".py",
   "mimetype": "text/x-python",
   "name": "python",
   "nbconvert_exporter": "python",
   "pygments_lexer": "ipython3",
   "version": "3.12.4"
  }
 },
 "nbformat": 4,
 "nbformat_minor": 5
}
