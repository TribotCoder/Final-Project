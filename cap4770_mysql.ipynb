{
 "cells": [
  {
   "cell_type": "code",
   "execution_count": null,
   "id": "d6db6aab-bfa1-430c-a0e3-faff583de5f7",
   "metadata": {},
   "outputs": [],
   "source": [
    "!python --version"
   ]
  },
  {
   "cell_type": "markdown",
   "id": "633d5ca0-7dc2-4d2b-b73c-d4a48e4fac2e",
   "metadata": {},
   "source": [
    "# MySQL connection with jupyter notebook"
   ]
  },
  {
   "cell_type": "markdown",
   "id": "a98b4e9d-675f-471e-8804-aa341743ddd1",
   "metadata": {},
   "source": [
    "### install mysql-connector-python"
   ]
  },
  {
   "cell_type": "code",
   "execution_count": null,
   "id": "c5181a2d",
   "metadata": {
    "ExecuteTime": {
     "end_time": "2025-07-29T20:46:22.790236Z",
     "start_time": "2025-07-29T20:46:22.738452Z"
    }
   },
   "outputs": [],
   "source": [
    "#mysql connection with python\n",
    "!conda install -c anaconda mysql-connector-python -y"
   ]
  },
  {
   "cell_type": "markdown",
   "id": "dad69bca-b155-4c39-9334-33abf39f5cd7",
   "metadata": {},
   "source": [
    "### Connection with mysql"
   ]
  },
  {
   "cell_type": "code",
   "execution_count": null,
   "id": "eb518a42",
   "metadata": {},
   "outputs": [],
   "source": [
    "try:\n",
    "    import mysql.connector as sql\n",
    "    #connection to SQL\n",
    "    conn = sql.connect(\n",
    "        host='localhost', \n",
    "        user='root', \n",
    "        password='cap4770',\n",
    "        database= 'cap4770',  \n",
    "        use_pure = True)\n",
    "    \n",
    "    cursor = conn.cursor(buffered=True)\n",
    "    cursor.execute(\"use cap4770\")\n",
    "    \n",
    "    # Check what tables are available\n",
    "    cursor.execute(\"show tables\")\n",
    "    tables = cursor.fetchall()\n",
    "    print(\"Available tables in the database:\")\n",
    "    for table in tables:\n",
    "        print(f\"- {table[0]}\")\n",
    "    \n",
    "except Exception as e:\n",
    "    print(f\"Database connection error: {e}\")\n",
    "    print(\"Will work with CSV file instead.\")"
   ]
  },
  {
   "cell_type": "code",
   "execution_count": null,
   "id": "047819e4",
   "metadata": {},
   "outputs": [],
   "source": [
    "# install numpy, pandas and matplotlib using pip at terminal"
   ]
  },
  {
   "cell_type": "code",
   "execution_count": null,
   "id": "9825414f-d388-4690-91f4-0b4b37bee39d",
   "metadata": {},
   "outputs": [],
   "source": [
    "import numpy as np\n",
    "import pandas as pd\n",
    "import matplotlib.pyplot as plt"
   ]
  },
  {
   "cell_type": "markdown",
   "id": "30303fa3",
   "metadata": {},
   "source": [
    "# Storm Events Data Analysis\n",
    "\n",
    "Let's explore the storm events data from the CSV file and database."
   ]
  },
  {
   "cell_type": "code",
   "execution_count": null,
   "id": "8254f2f1",
   "metadata": {},
   "outputs": [],
   "source": [
    "# If the data has been uploaded to the database, query it from there\n",
    "# First, let's reconnect to the database\n",
    "try:\n",
    "    import mysql.connector as sql\n",
    "    conn = sql.connect(\n",
    "        host='localhost', \n",
    "        user='root', \n",
    "        password='cap4770',\n",
    "        database= 'cap4770',  \n",
    "        use_pure = True)\n",
    "    \n",
    "    cursor = conn.cursor(buffered=True)\n",
    "    cursor.execute(\"use cap4770\")\n",
    "    \n",
    "    # Check what tables are available\n",
    "    cursor.execute(\"show tables\")\n",
    "    tables = cursor.fetchall()\n",
    "    print(\"Available tables in the database:\")\n",
    "    for table in tables:\n",
    "        print(f\"- {table[0]}\")\n",
    "    \n",
    "except Exception as e:\n",
    "    print(f\"Database connection error: {e}\")\n",
    "    print(\"Will work with CSV file instead.\")"
   ]
  },
  {
   "cell_type": "code",
   "execution_count": null,
   "id": "b9c9ac49",
   "metadata": {},
   "outputs": [],
   "source": [
    "# Query storm events data from database (assuming table name is 'storm_events' or similar)\n",
    "# You may need to adjust the table name based on how you uploaded the data\n",
    "\n",
    "try:\n",
    "    # Try common table names for storm events data - add your table name here\n",
    "    possible_table_names = ['storm_events', 'stormevents', 'storm_data', 'StormEvents_details', 'cap4']\n",
    "    \n",
    "    storm_table_name = None\n",
    "    for table_name in possible_table_names:\n",
    "        try:\n",
    "            cursor.execute(f\"SELECT COUNT(*) FROM {table_name}\")\n",
    "            count = cursor.fetchone()[0]\n",
    "            storm_table_name = table_name\n",
    "            print(f\"Found storm events table: {table_name} with {count} records\")\n",
    "            break\n",
    "        except:\n",
    "            continue\n",
    "    \n",
    "    if storm_table_name:\n",
    "        # Query the first 10 records from the database\n",
    "        query = f\"SELECT * FROM {storm_table_name} LIMIT 10\"\n",
    "        storm_df_db = pd.read_sql(query, conn)\n",
    "        print(f\"\\nData from database table '{storm_table_name}':\")\n",
    "        print(f\"Shape: {storm_df_db.shape}\")\n",
    "        storm_df_db.head()\n",
    "    else:\n",
    "        print(\"Storm events table not found in database. Please check the table name.\")\n",
    "        \n",
    "except Exception as e:\n",
    "    print(f\"Error querying database: {e}\")\n",
    "    print(\"Working with CSV file data instead.\")"
   ]
  },
  {
   "cell_type": "code",
   "execution_count": null,
   "id": "5281088b",
   "metadata": {},
   "outputs": [],
   "source": [
    "\n",
    "#searches database for the cost of damages from each weather event type and adds them together. Typecasts the damage_property and damage_crops\n",
    "query = f\"SELECT event_type, SUM(CASE WHEN damage_property LIKE '%k' THEN CAST(REPLACE(damage_property, 'k', '') AS DECIMAL(10,2)) * 1000 WHEN damage_property LIKE '%M' THEN CAST(REPLACE(damage_property, 'M', '') AS DECIMAL(10,2)) * 1000000 WHEN damage_property LIKE '%B' THEN CAST(REPLACE(damage_property, 'B', '') AS DECIMAL(10,2)) * 1000000000 ELSE CAST(damage_property AS DECIMAL(10,2)) END + CASE WHEN damage_crops LIKE '%k' THEN CAST(REPLACE(damage_crops, 'k', '') AS DECIMAL(10,2)) * 1000 WHEN damage_crops LIKE '%M' THEN CAST(REPLACE(damage_crops, 'M', '') AS DECIMAL(10,2)) * 1000000 WHEN damage_crops LIKE '%B' THEN CAST(REPLACE(damage_crops, 'B', '') AS DECIMAL(10,2)) * 1000000000 ELSE CAST(damage_crops AS DECIMAL(10,2)) END) AS total FROM {storm_table_name} GROUP BY event_type\"\n",
    "damage_db = pd.read_sql(query, conn)\n",
    "# Sort by the 'total' column in descending order\n",
    "damage_db = damage_db.sort_values(by='total', ascending=False)\n",
    "#Formats cost into a readable format\n",
    "pd.options.display.float_format = '${:,.0f}'.format\n",
    "print(damage_db)\n"
   ]
  }
 ],
 "metadata": {
  "kernelspec": {
   "display_name": "base",
   "language": "python",
   "name": "python3"
  },
  "language_info": {
   "codemirror_mode": {
    "name": "ipython",
    "version": 3
   },
   "file_extension": ".py",
   "mimetype": "text/x-python",
   "name": "python",
   "nbconvert_exporter": "python",
   "pygments_lexer": "ipython3",
   "version": "3.13.5"
  }
 },
 "nbformat": 4,
 "nbformat_minor": 5
}
